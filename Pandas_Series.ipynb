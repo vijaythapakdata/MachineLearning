{
  "nbformat": 4,
  "nbformat_minor": 0,
  "metadata": {
    "colab": {
      "name": "Pandas_Series.ipynb",
      "provenance": [],
      "collapsed_sections": [],
      "authorship_tag": "ABX9TyOA6sE7DuOyuzVtIUz02iYg",
      "include_colab_link": true
    },
    "kernelspec": {
      "name": "python3",
      "display_name": "Python 3"
    },
    "language_info": {
      "name": "python"
    }
  },
  "cells": [
    {
      "cell_type": "markdown",
      "metadata": {
        "id": "view-in-github",
        "colab_type": "text"
      },
      "source": [
        "<a href=\"https://colab.research.google.com/github/vijaythapakdata/MachineLearning/blob/main/Pandas_Series.ipynb\" target=\"_parent\"><img src=\"https://colab.research.google.com/assets/colab-badge.svg\" alt=\"Open In Colab\"/></a>"
      ]
    },
    {
      "cell_type": "code",
      "metadata": {
        "colab": {
          "base_uri": "https://localhost:8080/"
        },
        "id": "PN3AVjsgZebF",
        "outputId": "1e36d4f3-81f1-42a6-d074-143d5ba9ded7"
      },
      "source": [
        "#Pandas Series is just like column in a table\n",
        "#it is a one dimensional array holding data of any types\n",
        "import pandas as pd\n",
        "\n",
        "a=[1,2,3,4]\n",
        "\n",
        "mydata=pd.Series(a)\n",
        "print(mydata)"
      ],
      "execution_count": 1,
      "outputs": [
        {
          "output_type": "stream",
          "text": [
            "0    1\n",
            "1    2\n",
            "2    3\n",
            "3    4\n",
            "dtype: int64\n"
          ],
          "name": "stdout"
        }
      ]
    },
    {
      "cell_type": "code",
      "metadata": {
        "colab": {
          "base_uri": "https://localhost:8080/"
        },
        "id": "hqqEr8klZ_ps",
        "outputId": "116fc031-1197-48ff-b54e-02ddfc1ff62c"
      },
      "source": [
        "#series with label or index\n",
        "\n",
        "a=[1,2,3,4,5]\n",
        "\n",
        "mydata=pd.Series(a,index=[\"a\",\"b\",\"c\",\"d\",\"e\"])\n",
        "print(mydata)"
      ],
      "execution_count": 2,
      "outputs": [
        {
          "output_type": "stream",
          "text": [
            "a    1\n",
            "b    2\n",
            "c    3\n",
            "d    4\n",
            "e    5\n",
            "dtype: int64\n"
          ],
          "name": "stdout"
        }
      ]
    },
    {
      "cell_type": "code",
      "metadata": {
        "colab": {
          "base_uri": "https://localhost:8080/"
        },
        "id": "qaNsuC8AaSNl",
        "outputId": "b3f558c9-ffb3-4887-f2cf-d9cfc5f532f5"
      },
      "source": [
        "#extract data with label\n",
        "\n",
        "a=[1,2,3,4,5]\n",
        "\n",
        "mydata=pd.Series(a,index=[\"Apple\",\"Mango\",\"Banana\",\"Papaya\",\"Grapes\"])\n",
        "print(mydata[\"Mango\"])\n",
        "print(mydata[\"Papaya\"])"
      ],
      "execution_count": 4,
      "outputs": [
        {
          "output_type": "stream",
          "text": [
            "2\n",
            "4\n"
          ],
          "name": "stdout"
        }
      ]
    }
  ]
}
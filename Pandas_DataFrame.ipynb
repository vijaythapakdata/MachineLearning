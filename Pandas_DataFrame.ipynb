{
  "nbformat": 4,
  "nbformat_minor": 0,
  "metadata": {
    "colab": {
      "name": "Pandas_DataFrame.ipynb",
      "provenance": [],
      "collapsed_sections": [],
      "authorship_tag": "ABX9TyOdynaKiGFUpmKfLvyGB5hz"
    },
    "kernelspec": {
      "name": "python3",
      "display_name": "Python 3"
    },
    "language_info": {
      "name": "python"
    }
  },
  "cells": [
    {
      "cell_type": "code",
      "metadata": {
        "colab": {
          "base_uri": "https://localhost:8080/",
          "height": 142
        },
        "id": "MuzDcMBEbTYJ",
        "outputId": "1e07df8e-e6ca-4a64-87fb-05169c60ba0a"
      },
      "source": [
        "#Pandas DataFrame is 2d array or just like row and columns in a table\n",
        "\n",
        "import pandas as pd\n",
        "\n",
        "mydata={\n",
        "    \"cars\":[\"Safari\",\"Scorpio\",\"Bolero\"],\n",
        "    \"years\":[2,3,4]\n",
        "}\n",
        "df=pd.DataFrame(mydata)\n",
        "df"
      ],
      "execution_count": 2,
      "outputs": [
        {
          "output_type": "execute_result",
          "data": {
            "text/html": [
              "<div>\n",
              "<style scoped>\n",
              "    .dataframe tbody tr th:only-of-type {\n",
              "        vertical-align: middle;\n",
              "    }\n",
              "\n",
              "    .dataframe tbody tr th {\n",
              "        vertical-align: top;\n",
              "    }\n",
              "\n",
              "    .dataframe thead th {\n",
              "        text-align: right;\n",
              "    }\n",
              "</style>\n",
              "<table border=\"1\" class=\"dataframe\">\n",
              "  <thead>\n",
              "    <tr style=\"text-align: right;\">\n",
              "      <th></th>\n",
              "      <th>cars</th>\n",
              "      <th>years</th>\n",
              "    </tr>\n",
              "  </thead>\n",
              "  <tbody>\n",
              "    <tr>\n",
              "      <th>0</th>\n",
              "      <td>Safari</td>\n",
              "      <td>2</td>\n",
              "    </tr>\n",
              "    <tr>\n",
              "      <th>1</th>\n",
              "      <td>Scorpio</td>\n",
              "      <td>3</td>\n",
              "    </tr>\n",
              "    <tr>\n",
              "      <th>2</th>\n",
              "      <td>Bolero</td>\n",
              "      <td>4</td>\n",
              "    </tr>\n",
              "  </tbody>\n",
              "</table>\n",
              "</div>"
            ],
            "text/plain": [
              "      cars  years\n",
              "0   Safari      2\n",
              "1  Scorpio      3\n",
              "2   Bolero      4"
            ]
          },
          "metadata": {
            "tags": []
          },
          "execution_count": 2
        }
      ]
    },
    {
      "cell_type": "code",
      "metadata": {
        "colab": {
          "base_uri": "https://localhost:8080/",
          "height": 235
        },
        "id": "AdS1hsaVb6or",
        "outputId": "a4753e88-6c3b-45ac-b844-baa2c2a8e443"
      },
      "source": [
        "#pandas dataframe with indexing\n",
        "mydata={\n",
        "    \"Calories\":[450,345,234,567,123,457],\n",
        "    \"Duration\":[120,105,90,150,67,121]\n",
        "}\n",
        "df=pd.DataFrame(mydata,index=[\"Sunday\",\"Monday\",\"Tuesday\",\"Wednesday\",\"Thursday\",\"Friday\"])\n",
        "df"
      ],
      "execution_count": 3,
      "outputs": [
        {
          "output_type": "execute_result",
          "data": {
            "text/html": [
              "<div>\n",
              "<style scoped>\n",
              "    .dataframe tbody tr th:only-of-type {\n",
              "        vertical-align: middle;\n",
              "    }\n",
              "\n",
              "    .dataframe tbody tr th {\n",
              "        vertical-align: top;\n",
              "    }\n",
              "\n",
              "    .dataframe thead th {\n",
              "        text-align: right;\n",
              "    }\n",
              "</style>\n",
              "<table border=\"1\" class=\"dataframe\">\n",
              "  <thead>\n",
              "    <tr style=\"text-align: right;\">\n",
              "      <th></th>\n",
              "      <th>Calories</th>\n",
              "      <th>Duration</th>\n",
              "    </tr>\n",
              "  </thead>\n",
              "  <tbody>\n",
              "    <tr>\n",
              "      <th>Sunday</th>\n",
              "      <td>450</td>\n",
              "      <td>120</td>\n",
              "    </tr>\n",
              "    <tr>\n",
              "      <th>Monday</th>\n",
              "      <td>345</td>\n",
              "      <td>105</td>\n",
              "    </tr>\n",
              "    <tr>\n",
              "      <th>Tuesday</th>\n",
              "      <td>234</td>\n",
              "      <td>90</td>\n",
              "    </tr>\n",
              "    <tr>\n",
              "      <th>Wednesday</th>\n",
              "      <td>567</td>\n",
              "      <td>150</td>\n",
              "    </tr>\n",
              "    <tr>\n",
              "      <th>Thursday</th>\n",
              "      <td>123</td>\n",
              "      <td>67</td>\n",
              "    </tr>\n",
              "    <tr>\n",
              "      <th>Friday</th>\n",
              "      <td>457</td>\n",
              "      <td>121</td>\n",
              "    </tr>\n",
              "  </tbody>\n",
              "</table>\n",
              "</div>"
            ],
            "text/plain": [
              "           Calories  Duration\n",
              "Sunday          450       120\n",
              "Monday          345       105\n",
              "Tuesday         234        90\n",
              "Wednesday       567       150\n",
              "Thursday        123        67\n",
              "Friday          457       121"
            ]
          },
          "metadata": {
            "tags": []
          },
          "execution_count": 3
        }
      ]
    },
    {
      "cell_type": "code",
      "metadata": {
        "colab": {
          "base_uri": "https://localhost:8080/"
        },
        "id": "eEL20UwWc9kb",
        "outputId": "04ccdb7b-f6f7-47d2-bdd6-905e6458e500"
      },
      "source": [
        "print(df.loc[\"Friday\"])"
      ],
      "execution_count": 5,
      "outputs": [
        {
          "output_type": "stream",
          "text": [
            "Calories    457\n",
            "Duration    121\n",
            "Name: Friday, dtype: int64\n"
          ],
          "name": "stdout"
        }
      ]
    },
    {
      "cell_type": "code",
      "metadata": {
        "colab": {
          "base_uri": "https://localhost:8080/"
        },
        "id": "F6gcWLaLdMES",
        "outputId": "06dbd791-4d10-487d-dbe0-7a3cebdcc395"
      },
      "source": [
        "print(df.loc[\"Wednesday\"])"
      ],
      "execution_count": 6,
      "outputs": [
        {
          "output_type": "stream",
          "text": [
            "Calories    567\n",
            "Duration    150\n",
            "Name: Wednesday, dtype: int64\n"
          ],
          "name": "stdout"
        }
      ]
    },
    {
      "cell_type": "code",
      "metadata": {
        "colab": {
          "base_uri": "https://localhost:8080/",
          "height": 204
        },
        "id": "onLgj-FAdTz5",
        "outputId": "2830e2ea-c87a-4783-e075-4f2f6ddada1f"
      },
      "source": [
        "#extract rows\n",
        "mydata={\n",
        "    \"StudName\":[\"Vijay\",\"Ankit\",\"Deepesh\",\"Aman\",\"Mayank\"],\n",
        "    \"StuMarks\":[90,87,78,65,56]\n",
        "}\n",
        "df=pd.DataFrame(mydata)\n",
        "df"
      ],
      "execution_count": 7,
      "outputs": [
        {
          "output_type": "execute_result",
          "data": {
            "text/html": [
              "<div>\n",
              "<style scoped>\n",
              "    .dataframe tbody tr th:only-of-type {\n",
              "        vertical-align: middle;\n",
              "    }\n",
              "\n",
              "    .dataframe tbody tr th {\n",
              "        vertical-align: top;\n",
              "    }\n",
              "\n",
              "    .dataframe thead th {\n",
              "        text-align: right;\n",
              "    }\n",
              "</style>\n",
              "<table border=\"1\" class=\"dataframe\">\n",
              "  <thead>\n",
              "    <tr style=\"text-align: right;\">\n",
              "      <th></th>\n",
              "      <th>StudName</th>\n",
              "      <th>StuMarks</th>\n",
              "    </tr>\n",
              "  </thead>\n",
              "  <tbody>\n",
              "    <tr>\n",
              "      <th>0</th>\n",
              "      <td>Vijay</td>\n",
              "      <td>90</td>\n",
              "    </tr>\n",
              "    <tr>\n",
              "      <th>1</th>\n",
              "      <td>Ankit</td>\n",
              "      <td>87</td>\n",
              "    </tr>\n",
              "    <tr>\n",
              "      <th>2</th>\n",
              "      <td>Deepesh</td>\n",
              "      <td>78</td>\n",
              "    </tr>\n",
              "    <tr>\n",
              "      <th>3</th>\n",
              "      <td>Aman</td>\n",
              "      <td>65</td>\n",
              "    </tr>\n",
              "    <tr>\n",
              "      <th>4</th>\n",
              "      <td>Mayank</td>\n",
              "      <td>56</td>\n",
              "    </tr>\n",
              "  </tbody>\n",
              "</table>\n",
              "</div>"
            ],
            "text/plain": [
              "  StudName  StuMarks\n",
              "0    Vijay        90\n",
              "1    Ankit        87\n",
              "2  Deepesh        78\n",
              "3     Aman        65\n",
              "4   Mayank        56"
            ]
          },
          "metadata": {
            "tags": []
          },
          "execution_count": 7
        }
      ]
    },
    {
      "cell_type": "code",
      "metadata": {
        "colab": {
          "base_uri": "https://localhost:8080/"
        },
        "id": "-CRAVv8sdwY5",
        "outputId": "4fb7f820-fd7a-49ba-946a-918923c410a1"
      },
      "source": [
        "print(df.loc[2])"
      ],
      "execution_count": 8,
      "outputs": [
        {
          "output_type": "stream",
          "text": [
            "StudName    Deepesh\n",
            "StuMarks         78\n",
            "Name: 2, dtype: object\n"
          ],
          "name": "stdout"
        }
      ]
    },
    {
      "cell_type": "code",
      "metadata": {
        "colab": {
          "base_uri": "https://localhost:8080/"
        },
        "id": "WPgHvGUkd2KJ",
        "outputId": "7ed4a4fa-cbfc-478b-d80c-0db23eb1b270"
      },
      "source": [
        "print(df.loc[[0,2]])"
      ],
      "execution_count": 9,
      "outputs": [
        {
          "output_type": "stream",
          "text": [
            "  StudName  StuMarks\n",
            "0    Vijay        90\n",
            "2  Deepesh        78\n"
          ],
          "name": "stdout"
        }
      ]
    },
    {
      "cell_type": "code",
      "metadata": {
        "colab": {
          "base_uri": "https://localhost:8080/"
        },
        "id": "BTeoKIsKd8OA",
        "outputId": "836cdaee-9bac-4fd1-9047-a7b86f1aa054"
      },
      "source": [
        "print(df.loc[0:2])"
      ],
      "execution_count": 11,
      "outputs": [
        {
          "output_type": "stream",
          "text": [
            "  StudName  StuMarks\n",
            "0    Vijay        90\n",
            "1    Ankit        87\n",
            "2  Deepesh        78\n"
          ],
          "name": "stdout"
        }
      ]
    }
  ]
}